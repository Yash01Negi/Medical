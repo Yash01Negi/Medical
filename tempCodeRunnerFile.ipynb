import pickle
file = open('stroke.pkl', 'wb')
pickle.dump(lr, file)